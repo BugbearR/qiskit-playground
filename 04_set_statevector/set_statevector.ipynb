{
 "cells": [
  {
   "cell_type": "code",
   "execution_count": 2,
   "metadata": {},
   "outputs": [
    {
     "name": "stdout",
     "output_type": "stream",
     "text": [
      "Statevector([0.70710678+0.j, 0.        +0.j, 0.        +0.j,\n",
      "             0.70710678+0.j],\n",
      "            dims=(2, 2))\n"
     ]
    }
   ],
   "source": [
    "import numpy as np\n",
    "from qiskit import QuantumCircuit, Aer, execute\n",
    "from qiskit.visualization import array_to_latex\n",
    "\n",
    "# 初期状態として設定したい状態ベクトル（例：|00> と |11> の重ね合わせ）\n",
    "initial_state = [1/np.sqrt(2), 0, 0, 1/np.sqrt(2)]\n",
    "\n",
    "# 2量子ビットの量子回路を作成\n",
    "qc = QuantumCircuit(2)\n",
    "\n",
    "# 初期状態を設定\n",
    "qc.initialize(initial_state, [0, 1])\n",
    "\n",
    "# 量子回路を実行\n",
    "backend = Aer.get_backend('statevector_simulator')\n",
    "result = execute(qc, backend).result()\n",
    "\n",
    "# 状態ベクトルを取得\n",
    "statevector = result.get_statevector()\n",
    "\n",
    "# 状態ベクトルを表示\n",
    "print(statevector)"
   ]
  }
 ],
 "metadata": {
  "kernelspec": {
   "display_name": "Python 3",
   "language": "python",
   "name": "python3"
  },
  "language_info": {
   "codemirror_mode": {
    "name": "ipython",
    "version": 3
   },
   "file_extension": ".py",
   "mimetype": "text/x-python",
   "name": "python",
   "nbconvert_exporter": "python",
   "pygments_lexer": "ipython3",
   "version": "3.12.1"
  }
 },
 "nbformat": 4,
 "nbformat_minor": 2
}
