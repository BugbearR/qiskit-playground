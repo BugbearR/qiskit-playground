{
 "cells": [
  {
   "cell_type": "code",
   "execution_count": 1,
   "metadata": {},
   "outputs": [
    {
     "ename": "NameError",
     "evalue": "name 'np' is not defined",
     "output_type": "error",
     "traceback": [
      "\u001b[0;31m---------------------------------------------------------------------------\u001b[0m",
      "\u001b[0;31mNameError\u001b[0m                                 Traceback (most recent call last)",
      "Cell \u001b[0;32mIn[1], line 5\u001b[0m\n\u001b[1;32m      2\u001b[0m \u001b[38;5;28;01mfrom\u001b[39;00m \u001b[38;5;21;01mqiskit\u001b[39;00m\u001b[38;5;21;01m.\u001b[39;00m\u001b[38;5;21;01mvisualization\u001b[39;00m \u001b[38;5;28;01mimport\u001b[39;00m array_to_latex\n\u001b[1;32m      4\u001b[0m \u001b[38;5;66;03m# 初期状態として設定したい状態ベクトル（例：|00> と |11> の重ね合わせ）\u001b[39;00m\n\u001b[0;32m----> 5\u001b[0m initial_state \u001b[38;5;241m=\u001b[39m [\u001b[38;5;241m1\u001b[39m\u001b[38;5;241m/\u001b[39m\u001b[43mnp\u001b[49m\u001b[38;5;241m.\u001b[39msqrt(\u001b[38;5;241m2\u001b[39m), \u001b[38;5;241m0\u001b[39m, \u001b[38;5;241m0\u001b[39m, \u001b[38;5;241m1\u001b[39m\u001b[38;5;241m/\u001b[39mnp\u001b[38;5;241m.\u001b[39msqrt(\u001b[38;5;241m2\u001b[39m)]\n\u001b[1;32m      7\u001b[0m \u001b[38;5;66;03m# 2量子ビットの量子回路を作成\u001b[39;00m\n\u001b[1;32m      8\u001b[0m qc \u001b[38;5;241m=\u001b[39m QuantumCircuit(\u001b[38;5;241m2\u001b[39m)\n",
      "\u001b[0;31mNameError\u001b[0m: name 'np' is not defined"
     ]
    }
   ],
   "source": [
    "import numpy as np\n",
    "from qiskit import QuantumCircuit, Aer, execute\n",
    "from qiskit.visualization import array_to_latex\n",
    "\n",
    "# 初期状態として設定したい状態ベクトル（例：|00> と |11> の重ね合わせ）\n",
    "initial_state = [1/np.sqrt(2), 0, 0, 1/np.sqrt(2)]\n",
    "\n",
    "# 2量子ビットの量子回路を作成\n",
    "qc = QuantumCircuit(2)\n",
    "\n",
    "# 初期状態を設定\n",
    "qc.initialize(initial_state, [0, 1])\n",
    "\n",
    "# 量子回路を実行\n",
    "backend = Aer.get_backend('statevector_simulator')\n",
    "result = execute(qc, backend).result()\n",
    "\n",
    "# 状態ベクトルを取得\n",
    "statevector = result.get_statevector()\n",
    "\n",
    "# 状態ベクトルを表示\n",
    "print(statevector)"
   ]
  }
 ],
 "metadata": {
  "kernelspec": {
   "display_name": "Python 3",
   "language": "python",
   "name": "python3"
  },
  "language_info": {
   "codemirror_mode": {
    "name": "ipython",
    "version": 3
   },
   "file_extension": ".py",
   "mimetype": "text/x-python",
   "name": "python",
   "nbconvert_exporter": "python",
   "pygments_lexer": "ipython3",
   "version": "3.12.1"
  }
 },
 "nbformat": 4,
 "nbformat_minor": 2
}
