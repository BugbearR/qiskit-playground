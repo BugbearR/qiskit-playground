{
 "cells": [
  {
   "cell_type": "code",
   "execution_count": 1,
   "id": "97157faa-4c32-426a-b149-d0f9e69963ef",
   "metadata": {},
   "outputs": [
    {
     "name": "stdout",
     "output_type": "stream",
     "text": [
      "Counts(ideal): {'111': 497, '000': 527}\n",
      "Counts(noise): {'100': 11, '101': 19, '001': 76, '010': 19, '000': 395, '110': 73, '011': 18, '111': 413}\n"
     ]
    }
   ],
   "source": [
    "import qiskit\n",
    "from qiskit_aer import AerSimulator\n",
    "from qiskit.providers.fake_provider import FakeManilaV2\n",
    "\n",
    "# Generate 3-qubit GHZ state\n",
    "circ = qiskit.QuantumCircuit(3)\n",
    "circ.h(0)\n",
    "circ.cx(0, 1)\n",
    "circ.cx(1, 2)\n",
    "circ.measure_all()\n",
    "\n",
    "# Construct an ideal simulator\n",
    "aersim = AerSimulator()\n",
    "\n",
    "# Perform an ideal simulation\n",
    "result_ideal = aersim.run(circ).result()\n",
    "counts_ideal = result_ideal.get_counts(0)\n",
    "print('Counts(ideal):', counts_ideal)\n",
    "# Counts(ideal): {'000': 493, '111': 531}\n",
    "\n",
    "# Construct a noisy simulator backend from an IBMQ backend\n",
    "# This simulator backend will be automatically configured\n",
    "# using the device configuration and noise model\n",
    "backend = FakeManilaV2()\n",
    "aersim_backend = AerSimulator.from_backend(backend)\n",
    "\n",
    "# Perform noisy simulation\n",
    "result_noise = aersim_backend.run(circ).result()\n",
    "counts_noise = result_noise.get_counts(0)\n",
    "\n",
    "print('Counts(noise):', counts_noise)"
   ]
  },
  {
   "cell_type": "code",
   "execution_count": null,
   "id": "2921da59-1e0a-41a7-9af3-71d025d3def5",
   "metadata": {},
   "outputs": [],
   "source": []
  }
 ],
 "metadata": {
  "kernelspec": {
   "display_name": "Python 3 (ipykernel)",
   "language": "python",
   "name": "python3"
  },
  "language_info": {
   "codemirror_mode": {
    "name": "ipython",
    "version": 3
   },
   "file_extension": ".py",
   "mimetype": "text/x-python",
   "name": "python",
   "nbconvert_exporter": "python",
   "pygments_lexer": "ipython3",
   "version": "3.12.0"
  }
 },
 "nbformat": 4,
 "nbformat_minor": 5
}
