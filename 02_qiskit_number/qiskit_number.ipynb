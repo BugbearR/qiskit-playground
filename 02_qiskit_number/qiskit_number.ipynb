{
 "cells": [
  {
   "cell_type": "markdown",
   "metadata": {},
   "source": [
    "# Qiskit での量子のビット番号と数値としての解釈\n",
    "\n",
    "参考 量子ビット、右から見るか？左から見るか？ https://qiita.com/doiken_/items/afaed1012cbba0018935"
   ]
  },
  {
   "cell_type": "code",
   "execution_count": 8,
   "metadata": {},
   "outputs": [
    {
     "name": "stdout",
     "output_type": "stream",
     "text": [
      "{'100': 1000}\n"
     ]
    }
   ],
   "source": [
    "from qiskit import *\n",
    "from qiskit.visualization import plot_histogram\n",
    "from qiskit.tools.monitor import job_monitor\n",
    "\n",
    "# 量子ビットを指定する場合は左側に、古典ビットを指定する場合は右側に\n",
    "#circuit = QuantumCircuit(3, 3)\n",
    "circuit = QuantumCircuit(3)\n",
    "# 第0ビットと第1ビットに恒等変換\n",
    "circuit.id(0)\n",
    "circuit.id(1)\n",
    "# 第2ビットにXゲート\n",
    "circuit.x(2)\n",
    "\n",
    "# 観測\n",
    "# Qiskit では、デフォルトで量子ビットのインデックスは0が左側になる\n",
    "circuit.measure_all()\n",
    "# 左は観測する量子ビット、右は出力する古典ビット\n",
    "# circuit.measure([0,1,2], [0,1,2])\n",
    "\n",
    "# execute the quantum circuit\n",
    "backend = BasicAer.get_backend('qasm_simulator') # the device to run on\n",
    "result = execute(circuit, backend, shots=1000).result()\n",
    "counts  = result.get_counts(circuit)\n",
    "#結果を出力\n",
    "print(counts)\n",
    "# → {'100': 1000} と出力される"
   ]
  }
 ],
 "metadata": {
  "kernelspec": {
   "display_name": "Python 3",
   "language": "python",
   "name": "python3"
  },
  "language_info": {
   "codemirror_mode": {
    "name": "ipython",
    "version": 3
   },
   "file_extension": ".py",
   "mimetype": "text/x-python",
   "name": "python",
   "nbconvert_exporter": "python",
   "pygments_lexer": "ipython3",
   "version": "3.12.0"
  }
 },
 "nbformat": 4,
 "nbformat_minor": 2
}
